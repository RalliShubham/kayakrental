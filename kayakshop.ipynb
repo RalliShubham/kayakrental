{
 "cells": [
  {
   "cell_type": "code",
   "execution_count": 1,
   "id": "5cb476d0",
   "metadata": {},
   "outputs": [],
   "source": [
    "class kayakShop:\n",
    "    rental_options = {\"Hourly\":10, \"Daily\":30, \"Weekly\":50}\n",
    "    rental_times_in_hours = {\"Hourly\":1, \"Daily\":24, \"Weekly\":168}\n",
    "    discount = 0.3\n",
    "\n",
    "    def __init__(self, available_kayaks):\n",
    "        self.available_kayaks = available_kayaks\n",
    "        self.total_rented_kayaks = 0\n",
    "        print(\"available kayaks: \", available_kayaks)\n",
    "\n",
    "    def shop_info(self, customer_name, requested_no_of_kayaks, rental_option, rental_time):\n",
    "        self.customer_name = customer_name\n",
    "        self.requested_no_of_kayaks = requested_no_of_kayaks\n",
    "        self.rental_option = rental_option\n",
    "        self.rental_time = rental_time\n",
    "        self.discount = 0.3\n",
    "        \n",
    "        if self.rental_option not in self.rental_options:\n",
    "            print(\"Please choose rental options from Hourly, Daily, or Weekly basis only.\")\n",
    "            return\n",
    "\n",
    "        if requested_no_of_kayaks > self.available_kayaks:\n",
    "            print(\"We don't have\", requested_no_of_kayaks, \" kayaks available. The maximum kayaks available are\", self.available_kayaks)\n",
    "            print(\"REQUEST DENIED\")\n",
    "        else:\n",
    "            total_rental_times_in_hours = self.rental_times_in_hours[self.rental_option] * self.rental_time\n",
    "            print(\"Customer's name is\",self.customer_name, \"and, requested\", self.requested_no_of_kayaks, \"kayaks on\", self.rental_option, \"basis for\", total_rental_times_in_hours, \"hours\")\n",
    "            print(\"REQUEST ACCEPTED\")\n",
    "            self.available_kayaks -= requested_no_of_kayaks\n",
    "            self.total_rented_kayaks += requested_no_of_kayaks\n",
    "            print(\"Remaining available kayaks,\", self.available_kayaks)\n",
    "            \n",
    "    def returns(self,customer_name, total_kayaks_returned):\n",
    "        self.available_kayaks += total_kayaks_returned\n",
    "        print(customer_name, \"returned\", total_kayaks_returned, \"kayaks. Invoice to be generated\")\n",
    "        print(\"Total kayaks available in store: \", self.available_kayaks)\n",
    "\n",
    "    def shop_invoice(self):\n",
    "        rental_options = {\"Hourly\":10, \"Daily\":30, \"Weekly\":50}\n",
    "        rental_times_in_hours = {\"Hourly\":1, \"Daily\":24, \"Weekly\":168}\n",
    "        discount = 0.3\n",
    "\n",
    "        if self.rental_option == \"Hourly\":\n",
    "            bill = self.requested_no_of_kayaks * self.rental_time * rental_options[self.rental_option]\n",
    "\n",
    "        elif self.rental_option == \"Daily\":\n",
    "            bill = self.requested_no_of_kayaks * self.rental_time * rental_options[self.rental_option]\n",
    "\n",
    "        elif self.rental_option == \"Weekly\":\n",
    "            bill = self.requested_no_of_kayaks * self.rental_time * rental_options[self.rental_option]\n",
    "\n",
    "        else:\n",
    "            print(\"Please choose rental options from Hourly, Daily, or Weekly basis only\")\n",
    "\n",
    "        if self.requested_no_of_kayaks > 2 and self.requested_no_of_kayaks <= 5:\n",
    "            discount_amount = bill * self.discount\n",
    "            bill -= discount_amount\n",
    "            \n",
    "\n",
    "        print(\"Customer Name: \",self.customer_name)\n",
    "        print(\"Detailed Bill Costs: \", self.requested_no_of_kayaks, self.rental_option, \"kayaks rented @\", rental_options[self.rental_option], \"each. Discount:\", discount_amount if self.requested_no_of_kayaks >=3 and self.requested_no_of_kayaks <= 5 else 0)\n",
    "        print(\"Final amount to be paid after discount: \", bill)\n",
    "        print(\"Total kayaks available after bill amount of\", bill, \"paid is:\", self.available_kayaks, \"kayaks\")\n",
    "        \n",
    "    def EMERGENCY_STOP(self):\n",
    "        \n",
    "        self.available_kayaks = 0\n",
    "        print(\"WE ARE CLOSED! TRY AGAIN LATER.\")"
   ]
  },
  {
   "cell_type": "code",
   "execution_count": 2,
   "id": "ac7d6b70",
   "metadata": {},
   "outputs": [
    {
     "name": "stdout",
     "output_type": "stream",
     "text": [
      "available kayaks:  10\n"
     ]
    }
   ],
   "source": [
    "Walmart = kayakShop(10)"
   ]
  },
  {
   "cell_type": "code",
   "execution_count": 3,
   "id": "f36e7553",
   "metadata": {},
   "outputs": [
    {
     "name": "stdout",
     "output_type": "stream",
     "text": [
      "Customer's name is Shubham and, requested 4 kayaks on Daily basis for 120 hours\n",
      "REQUEST ACCEPTED\n",
      "Remaining available kayaks, 6\n"
     ]
    }
   ],
   "source": [
    "Walmart.shop_info('Shubham', 4, \"Daily\", 5)"
   ]
  },
  {
   "cell_type": "code",
   "execution_count": 4,
   "id": "1d7d27c6",
   "metadata": {},
   "outputs": [
    {
     "name": "stdout",
     "output_type": "stream",
     "text": [
      "We don't have 20  kayaks available. The maximum kayaks available are 6\n",
      "REQUEST DENIED\n"
     ]
    }
   ],
   "source": [
    "Walmart.shop_info(\"Ralli\",20,\"Hourly\",3)"
   ]
  },
  {
   "cell_type": "code",
   "execution_count": 5,
   "id": "713640f4",
   "metadata": {},
   "outputs": [
    {
     "name": "stdout",
     "output_type": "stream",
     "text": [
      "Shubham returned 4 kayaks. Invoice to be generated\n",
      "Total kayaks available in store:  10\n"
     ]
    }
   ],
   "source": [
    "Walmart.returns('Shubham',4)"
   ]
  },
  {
   "cell_type": "code",
   "execution_count": 6,
   "id": "07b0e292",
   "metadata": {},
   "outputs": [
    {
     "name": "stdout",
     "output_type": "stream",
     "text": [
      "Customer Name:  Ralli\n",
      "Detailed Bill Costs:  20 Hourly kayaks rented @ 10 each. Discount: 0\n",
      "Final amount to be paid after discount:  600\n",
      "Total kayaks available after bill amount of 600 paid is: 10 kayaks\n"
     ]
    }
   ],
   "source": [
    "Walmart.shop_invoice()"
   ]
  },
  {
   "cell_type": "code",
   "execution_count": 7,
   "id": "a1b9d6cf",
   "metadata": {},
   "outputs": [
    {
     "name": "stdout",
     "output_type": "stream",
     "text": [
      "Enter name: Shubham\n",
      "Enter number of kayaks you want to rent: 4\n",
      "Choose rental option from 'Hourly','Daily', or 'Weekly'Hourly\n",
      "Enter number of hours/days/weeks: 3\n",
      "Enter number of kayaks you rented earlier and are returning: 3\n",
      "available kayaks:  20\n",
      "Customer's name is Shubham and, requested 4 kayaks on Hourly basis for 3 hours\n",
      "REQUEST ACCEPTED\n",
      "Remaining available kayaks, 16\n",
      "Shubham returned 3 kayaks. Invoice to be generated\n",
      "Total kayaks available in store:  19\n",
      "Customer Name:  Shubham\n",
      "Detailed Bill Costs:  4 Hourly kayaks rented @ 10 each. Discount: 36.0\n",
      "Final amount to be paid after discount:  84.0\n",
      "Total kayaks available after bill amount of 84.0 paid is: 19 kayaks\n"
     ]
    }
   ],
   "source": [
    "#1st scenario, this asks for customer name and kayaks to be requested, rental option, rental time and generates invoices when an item is returned.\n",
    "# This executes all the statements at once, i.e., rents kayaks, prcoesses returns and generates invoices along with updating the return kayak variable\n",
    "# This test can be executed when user inputs kayaks within store limit\n",
    "if __name__==\"__main__\":\n",
    "    customer_name = str(input(\"Enter name: \"))\n",
    "    \n",
    "    requested_no_of_kayaks = int(input(\"Enter number of kayaks you want to rent: \"))\n",
    "    \n",
    "    rental_option = str(input(\"Choose rental option from 'Hourly','Daily', or 'Weekly'\"))\n",
    "    \n",
    "    rental_time = int(input(\"Enter number of hours/days/weeks: \"))\n",
    "    total_kayaks_returned = int(input(\"Enter number of kayaks you rented earlier and are returning: \"))\n",
    "    \n",
    "walmart = kayakShop(20)\n",
    "walmart.shop_info(customer_name,requested_no_of_kayaks,rental_option,rental_time)\n",
    "walmart.returns(customer_name, total_kayaks_returned)\n",
    "walmart.shop_invoice()\n",
    "\n",
    "    \n",
    "    "
   ]
  },
  {
   "cell_type": "code",
   "execution_count": 8,
   "id": "98e5fda3",
   "metadata": {},
   "outputs": [
    {
     "name": "stdout",
     "output_type": "stream",
     "text": [
      "available kayaks:  10\n",
      "Enter name: Ralli\n",
      "Enter number of kayaks you want to rent: 3\n",
      "Choose rental option from 'Hourly','Daily', or 'Weekly': Weekly\n",
      "Enter number of hours/days/weeks: 2\n",
      "Customer's name is Ralli and, requested 3 kayaks on Weekly basis for 336 hours\n",
      "REQUEST ACCEPTED\n",
      "Remaining available kayaks, 7\n"
     ]
    }
   ],
   "source": [
    "#2nd scenario, selecting kayaks within store limit. \n",
    "#This unit test can also be used to check that the user gets an error if they try to rent more kayaks than available\n",
    "#The shop name for this test or instance is called COSTCO\n",
    "if __name__==\"__main__\":\n",
    "    Costco = kayakShop(10)\n",
    "    customer_name = str(input(\"Enter name: \"))\n",
    "    requested_no_of_kayaks = int(input(\"Enter number of kayaks you want to rent: \"))\n",
    "    rental_option = str(input(\"Choose rental option from 'Hourly','Daily', or 'Weekly': \"))\n",
    "    rental_time = int(input(\"Enter number of hours/days/weeks: \"))\n",
    "    \n",
    "    Costco.shop_info(customer_name,requested_no_of_kayaks,rental_option,rental_time)\n",
    "    \n",
    "    \n",
    "    "
   ]
  },
  {
   "cell_type": "code",
   "execution_count": 9,
   "id": "69a51286",
   "metadata": {},
   "outputs": [
    {
     "name": "stdout",
     "output_type": "stream",
     "text": [
      "available kayaks:  20\n",
      "Enter name: Shubham Ralli\n",
      "Enter number of kayaks you want to rent: 5\n",
      "Choose rental option from 'Hourly','Daily', or 'Weekly': Daily\n",
      "Enter number of hours/days/weeks: 5\n",
      "Customer's name is Shubham Ralli and, requested 5 kayaks on Daily basis for 120 hours\n",
      "REQUEST ACCEPTED\n",
      "Remaining available kayaks, 15\n",
      "Shubham Ralli returned 5 kayaks. Invoice to be generated\n",
      "Total kayaks available in store:  20\n",
      "Customer Name:  Shubham Ralli\n",
      "Detailed Bill Costs:  5 Daily kayaks rented @ 30 each. Discount: 225.0\n",
      "Final amount to be paid after discount:  525.0\n",
      "Total kayaks available after bill amount of 525.0 paid is: 20 kayaks\n"
     ]
    }
   ],
   "source": [
    "#3rd scenario, selecting kayaks within store limit and returning the kayaks rented earlier & generating a detailed invoice\n",
    "#The shop name for this test or instance is called TARGET\n",
    "if __name__==\"__main__\":\n",
    "    Target = kayakShop(20)\n",
    "    customer_name = str(input(\"Enter name: \"))\n",
    "    requested_no_of_kayaks = int(input(\"Enter number of kayaks you want to rent: \"))\n",
    "    rental_option = str(input(\"Choose rental option from 'Hourly','Daily', or 'Weekly': \"))\n",
    "    rental_time = int(input(\"Enter number of hours/days/weeks: \"))\n",
    "    \n",
    "    Target.shop_info(customer_name,requested_no_of_kayaks,rental_option,rental_time)\n",
    "\n",
    "    Target.returns(customer_name,requested_no_of_kayaks)\n",
    "    \n",
    "    Target.shop_invoice()"
   ]
  },
  {
   "cell_type": "code",
   "execution_count": 10,
   "id": "b89085c9",
   "metadata": {},
   "outputs": [
    {
     "name": "stdout",
     "output_type": "stream",
     "text": [
      "available kayaks:  20\n",
      "Enter name: Shubham\n",
      "Enter number of kayaks you want to rent: 22\n",
      "Choose rental option from 'Hourly','Daily', or 'Weekly': Daily\n",
      "Enter number of hours/days/weeks: 2\n",
      "We don't have 22  kayaks available. The maximum kayaks available are 20\n",
      "REQUEST DENIED\n"
     ]
    }
   ],
   "source": [
    "#4th scenario, selecting kayaks more than the store limit\n",
    "#The shop name for this test or instance is called KOHLS\n",
    "if __name__==\"__main__\":\n",
    "    Kohls = kayakShop(20)\n",
    "    customer_name = str(input(\"Enter name: \"))\n",
    "    requested_no_of_kayaks = int(input(\"Enter number of kayaks you want to rent: \"))\n",
    "    rental_option = str(input(\"Choose rental option from 'Hourly','Daily', or 'Weekly': \"))\n",
    "    rental_time = int(input(\"Enter number of hours/days/weeks: \"))\n",
    "    \n",
    "    Kohls.shop_info(customer_name,requested_no_of_kayaks,rental_option,rental_time)\n"
   ]
  },
  {
   "cell_type": "code",
   "execution_count": 11,
   "id": "f9843165",
   "metadata": {},
   "outputs": [
    {
     "name": "stdout",
     "output_type": "stream",
     "text": [
      "WE ARE CLOSED! TRY AGAIN LATER.\n"
     ]
    }
   ],
   "source": [
    "#5th scenario, shop ends the program in an emergency. Eg, sudden business closure due to family emergencies\n",
    "\n",
    "if __name__==\"__main__\":\n",
    "    Kohls.EMERGENCY_STOP()"
   ]
  }
 ],
 "metadata": {
  "kernelspec": {
   "display_name": "Python 3 (ipykernel)",
   "language": "python",
   "name": "python3"
  },
  "language_info": {
   "codemirror_mode": {
    "name": "ipython",
    "version": 3
   },
   "file_extension": ".py",
   "mimetype": "text/x-python",
   "name": "python",
   "nbconvert_exporter": "python",
   "pygments_lexer": "ipython3",
   "version": "3.9.13"
  }
 },
 "nbformat": 4,
 "nbformat_minor": 5
}
